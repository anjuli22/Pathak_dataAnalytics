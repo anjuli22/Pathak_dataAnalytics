{
 "cells": [
  {
   "cell_type": "markdown",
   "metadata": {},
   "source": [
    "Import all necessity packages"
   ]
  },
  {
   "cell_type": "code",
   "execution_count": 1,
   "metadata": {},
   "outputs": [],
   "source": [
    "import pandas as pd\n",
    "import numpy as np\n",
    "from sklearn.model_selection import train_test_split\n",
    "import matplotlib.pyplot as plt"
   ]
  },
  {
   "cell_type": "markdown",
   "metadata": {},
   "source": [
    "Importing file data and visualisation"
   ]
  },
  {
   "cell_type": "code",
   "execution_count": 2,
   "metadata": {},
   "outputs": [
    {
     "name": "stderr",
     "output_type": "stream",
     "text": [
      "C:\\Users\\anjul\\anaconda3\\lib\\site-packages\\IPython\\core\\interactiveshell.py:3071: DtypeWarning: Columns (21) have mixed types.Specify dtype option on import or set low_memory=False.\n",
      "  has_raised = await self.run_ast_nodes(code_ast.body, cell_name,\n"
     ]
    },
    {
     "data": {
      "text/html": [
       "<div>\n",
       "<style scoped>\n",
       "    .dataframe tbody tr th:only-of-type {\n",
       "        vertical-align: middle;\n",
       "    }\n",
       "\n",
       "    .dataframe tbody tr th {\n",
       "        vertical-align: top;\n",
       "    }\n",
       "\n",
       "    .dataframe thead th {\n",
       "        text-align: right;\n",
       "    }\n",
       "</style>\n",
       "<table border=\"1\" class=\"dataframe\">\n",
       "  <thead>\n",
       "    <tr style=\"text-align: right;\">\n",
       "      <th></th>\n",
       "      <th>_id</th>\n",
       "      <th>sid</th>\n",
       "      <th>scriptname</th>\n",
       "      <th>scriptcode</th>\n",
       "      <th>value</th>\n",
       "      <th>sign</th>\n",
       "      <th>net_count</th>\n",
       "      <th>perc</th>\n",
       "      <th>high</th>\n",
       "      <th>low</th>\n",
       "      <th>...</th>\n",
       "      <th>cfl916_maxd30_fl916</th>\n",
       "      <th>change_mind30ltp_time</th>\n",
       "      <th>cfl916_mind30_fl916</th>\n",
       "      <th>change_maxs30ltp_time</th>\n",
       "      <th>cfl916_maxs30_fl916</th>\n",
       "      <th>change_mins30ltp_time</th>\n",
       "      <th>cfl916_mins30_fl916</th>\n",
       "      <th>level_position_flag</th>\n",
       "      <th>d30s30levelindex</th>\n",
       "      <th>change_flag_time</th>\n",
       "    </tr>\n",
       "  </thead>\n",
       "  <tbody>\n",
       "    <tr>\n",
       "      <th>0</th>\n",
       "      <td>1.610000e+12</td>\n",
       "      <td>1613710000000</td>\n",
       "      <td>BHARTIARTL</td>\n",
       "      <td>10604</td>\n",
       "      <td>28774890.00</td>\n",
       "      <td>1</td>\n",
       "      <td>0</td>\n",
       "      <td>0.3</td>\n",
       "      <td>590.75</td>\n",
       "      <td>590.00</td>\n",
       "      <td>...</td>\n",
       "      <td>NaN</td>\n",
       "      <td>NaN</td>\n",
       "      <td>NaN</td>\n",
       "      <td>NaN</td>\n",
       "      <td>NaN</td>\n",
       "      <td>NaN</td>\n",
       "      <td>NaN</td>\n",
       "      <td>1</td>\n",
       "      <td>1</td>\n",
       "      <td>NaN</td>\n",
       "    </tr>\n",
       "    <tr>\n",
       "      <th>1</th>\n",
       "      <td>1.610000e+12</td>\n",
       "      <td>1613710000000</td>\n",
       "      <td>BHARTIARTL</td>\n",
       "      <td>10604</td>\n",
       "      <td>37438038.00</td>\n",
       "      <td>1</td>\n",
       "      <td>0</td>\n",
       "      <td>0.3</td>\n",
       "      <td>590.85</td>\n",
       "      <td>590.00</td>\n",
       "      <td>...</td>\n",
       "      <td>0.0</td>\n",
       "      <td>2021-02-19T09:15:10.445Z</td>\n",
       "      <td>0.0</td>\n",
       "      <td>2021-02-19T09:15:10.445Z</td>\n",
       "      <td>0.0</td>\n",
       "      <td>2021-02-19T09:15:10.445Z</td>\n",
       "      <td>0.0</td>\n",
       "      <td>1</td>\n",
       "      <td>1</td>\n",
       "      <td>NaN</td>\n",
       "    </tr>\n",
       "    <tr>\n",
       "      <th>2</th>\n",
       "      <td>1.610000e+12</td>\n",
       "      <td>1613710000000</td>\n",
       "      <td>BHARTIARTL</td>\n",
       "      <td>10604</td>\n",
       "      <td>40689257.95</td>\n",
       "      <td>1</td>\n",
       "      <td>0</td>\n",
       "      <td>0.3</td>\n",
       "      <td>590.85</td>\n",
       "      <td>590.00</td>\n",
       "      <td>...</td>\n",
       "      <td>0.0</td>\n",
       "      <td>2021-02-19T09:15:10.445Z</td>\n",
       "      <td>0.0</td>\n",
       "      <td>2021-02-19T09:15:10.445Z</td>\n",
       "      <td>0.0</td>\n",
       "      <td>2021-02-19T09:15:10.445Z</td>\n",
       "      <td>0.0</td>\n",
       "      <td>1</td>\n",
       "      <td>1</td>\n",
       "      <td>NaN</td>\n",
       "    </tr>\n",
       "    <tr>\n",
       "      <th>3</th>\n",
       "      <td>1.610000e+12</td>\n",
       "      <td>1613710000000</td>\n",
       "      <td>BHARTIARTL</td>\n",
       "      <td>10604</td>\n",
       "      <td>45336491.75</td>\n",
       "      <td>-1</td>\n",
       "      <td>0</td>\n",
       "      <td>0.2</td>\n",
       "      <td>590.85</td>\n",
       "      <td>590.00</td>\n",
       "      <td>...</td>\n",
       "      <td>0.0</td>\n",
       "      <td>2021-02-19T09:15:12.271Z</td>\n",
       "      <td>0.0</td>\n",
       "      <td>2021-02-19T09:15:12.271Z</td>\n",
       "      <td>0.0</td>\n",
       "      <td>2021-02-19T09:15:10.445Z</td>\n",
       "      <td>0.0</td>\n",
       "      <td>4</td>\n",
       "      <td>4</td>\n",
       "      <td>NaN</td>\n",
       "    </tr>\n",
       "    <tr>\n",
       "      <th>4</th>\n",
       "      <td>1.610000e+12</td>\n",
       "      <td>1613710000000</td>\n",
       "      <td>BHARTIARTL</td>\n",
       "      <td>10604</td>\n",
       "      <td>57642206.97</td>\n",
       "      <td>-1</td>\n",
       "      <td>0</td>\n",
       "      <td>0.0</td>\n",
       "      <td>590.85</td>\n",
       "      <td>589.25</td>\n",
       "      <td>...</td>\n",
       "      <td>0.0</td>\n",
       "      <td>2021-02-19T09:15:13.083Z</td>\n",
       "      <td>0.0</td>\n",
       "      <td>2021-02-19T09:15:13.083Z</td>\n",
       "      <td>0.0</td>\n",
       "      <td>2021-02-19T09:15:10.445Z</td>\n",
       "      <td>0.0</td>\n",
       "      <td>4</td>\n",
       "      <td>4</td>\n",
       "      <td>NaN</td>\n",
       "    </tr>\n",
       "  </tbody>\n",
       "</table>\n",
       "<p>5 rows × 157 columns</p>\n",
       "</div>"
      ],
      "text/plain": [
       "            _id            sid  scriptname  scriptcode        value  sign  \\\n",
       "0  1.610000e+12  1613710000000  BHARTIARTL       10604  28774890.00     1   \n",
       "1  1.610000e+12  1613710000000  BHARTIARTL       10604  37438038.00     1   \n",
       "2  1.610000e+12  1613710000000  BHARTIARTL       10604  40689257.95     1   \n",
       "3  1.610000e+12  1613710000000  BHARTIARTL       10604  45336491.75    -1   \n",
       "4  1.610000e+12  1613710000000  BHARTIARTL       10604  57642206.97    -1   \n",
       "\n",
       "   net_count  perc    high     low  ...  cfl916_maxd30_fl916  \\\n",
       "0          0   0.3  590.75  590.00  ...                  NaN   \n",
       "1          0   0.3  590.85  590.00  ...                  0.0   \n",
       "2          0   0.3  590.85  590.00  ...                  0.0   \n",
       "3          0   0.2  590.85  590.00  ...                  0.0   \n",
       "4          0   0.0  590.85  589.25  ...                  0.0   \n",
       "\n",
       "      change_mind30ltp_time cfl916_mind30_fl916     change_maxs30ltp_time  \\\n",
       "0                       NaN                 NaN                       NaN   \n",
       "1  2021-02-19T09:15:10.445Z                 0.0  2021-02-19T09:15:10.445Z   \n",
       "2  2021-02-19T09:15:10.445Z                 0.0  2021-02-19T09:15:10.445Z   \n",
       "3  2021-02-19T09:15:12.271Z                 0.0  2021-02-19T09:15:12.271Z   \n",
       "4  2021-02-19T09:15:13.083Z                 0.0  2021-02-19T09:15:13.083Z   \n",
       "\n",
       "   cfl916_maxs30_fl916     change_mins30ltp_time  cfl916_mins30_fl916  \\\n",
       "0                  NaN                       NaN                  NaN   \n",
       "1                  0.0  2021-02-19T09:15:10.445Z                  0.0   \n",
       "2                  0.0  2021-02-19T09:15:10.445Z                  0.0   \n",
       "3                  0.0  2021-02-19T09:15:10.445Z                  0.0   \n",
       "4                  0.0  2021-02-19T09:15:10.445Z                  0.0   \n",
       "\n",
       "   level_position_flag  d30s30levelindex  change_flag_time  \n",
       "0                    1                 1               NaN  \n",
       "1                    1                 1               NaN  \n",
       "2                    1                 1               NaN  \n",
       "3                    4                 4               NaN  \n",
       "4                    4                 4               NaN  \n",
       "\n",
       "[5 rows x 157 columns]"
      ]
     },
     "execution_count": 2,
     "metadata": {},
     "output_type": "execute_result"
    }
   ],
   "source": [
    "data_v1=pd.read_csv('BHARTIARTL.csv')\n",
    "data_v1.head()\n"
   ]
  },
  {
   "cell_type": "code",
   "execution_count": 3,
   "metadata": {},
   "outputs": [
    {
     "data": {
      "text/plain": [
       "21149"
      ]
     },
     "execution_count": 3,
     "metadata": {},
     "output_type": "execute_result"
    }
   ],
   "source": [
    "\n",
    "len(data_v1.index)"
   ]
  },
  {
   "cell_type": "code",
   "execution_count": 4,
   "metadata": {},
   "outputs": [
    {
     "data": {
      "text/plain": [
       "21148"
      ]
     },
     "execution_count": 4,
     "metadata": {},
     "output_type": "execute_result"
    }
   ],
   "source": [
    "#removing row with fl916 data as Field!\n",
    "\n",
    "\n",
    "data_v1=data_v1[data_v1.fl916 != '#FIELD!']\n",
    "len(data_v1.index)"
   ]
  },
  {
   "cell_type": "code",
   "execution_count": 5,
   "metadata": {},
   "outputs": [
    {
     "data": {
      "text/plain": [
       "_id                      float64\n",
       "sid                        int64\n",
       "scriptname                object\n",
       "scriptcode                 int64\n",
       "value                    float64\n",
       "                          ...   \n",
       "change_mins30ltp_time     object\n",
       "cfl916_mins30_fl916      float64\n",
       "level_position_flag        int64\n",
       "d30s30levelindex           int64\n",
       "change_flag_time         float64\n",
       "Length: 157, dtype: object"
      ]
     },
     "execution_count": 5,
     "metadata": {},
     "output_type": "execute_result"
    }
   ],
   "source": [
    "data_v1.dtypes"
   ]
  },
  {
   "cell_type": "code",
   "execution_count": 9,
   "metadata": {},
   "outputs": [
    {
     "data": {
      "text/html": [
       "<div>\n",
       "<style scoped>\n",
       "    .dataframe tbody tr th:only-of-type {\n",
       "        vertical-align: middle;\n",
       "    }\n",
       "\n",
       "    .dataframe tbody tr th {\n",
       "        vertical-align: top;\n",
       "    }\n",
       "\n",
       "    .dataframe thead th {\n",
       "        text-align: right;\n",
       "    }\n",
       "</style>\n",
       "<table border=\"1\" class=\"dataframe\">\n",
       "  <thead>\n",
       "    <tr style=\"text-align: right;\">\n",
       "      <th></th>\n",
       "      <th>sid</th>\n",
       "      <th>ltp</th>\n",
       "      <th>updatetime</th>\n",
       "      <th>pvr</th>\n",
       "      <th>volume</th>\n",
       "      <th>volumechange</th>\n",
       "      <th>fl916</th>\n",
       "      <th>net_count</th>\n",
       "      <th>m30exp</th>\n",
       "    </tr>\n",
       "  </thead>\n",
       "  <tbody>\n",
       "    <tr>\n",
       "      <th>0</th>\n",
       "      <td>1613710000000</td>\n",
       "      <td>590.75</td>\n",
       "      <td>2021-02-19T09:15:07.457Z</td>\n",
       "      <td>12.6</td>\n",
       "      <td>48771</td>\n",
       "      <td>48771</td>\n",
       "      <td>0.0</td>\n",
       "      <td>0</td>\n",
       "      <td>0.0</td>\n",
       "    </tr>\n",
       "    <tr>\n",
       "      <th>1</th>\n",
       "      <td>1613710000000</td>\n",
       "      <td>590.70</td>\n",
       "      <td>2021-02-19T09:15:10.445Z</td>\n",
       "      <td>9.4</td>\n",
       "      <td>63450</td>\n",
       "      <td>13409</td>\n",
       "      <td>0.0</td>\n",
       "      <td>0</td>\n",
       "      <td>0.0</td>\n",
       "    </tr>\n",
       "    <tr>\n",
       "      <th>2</th>\n",
       "      <td>1613710000000</td>\n",
       "      <td>590.70</td>\n",
       "      <td>2021-02-19T09:15:11.400Z</td>\n",
       "      <td>10.2</td>\n",
       "      <td>68959</td>\n",
       "      <td>5509</td>\n",
       "      <td>0.0</td>\n",
       "      <td>0</td>\n",
       "      <td>0.0</td>\n",
       "    </tr>\n",
       "    <tr>\n",
       "      <th>3</th>\n",
       "      <td>1613710000000</td>\n",
       "      <td>590.00</td>\n",
       "      <td>2021-02-19T09:15:12.271Z</td>\n",
       "      <td>7.2</td>\n",
       "      <td>76835</td>\n",
       "      <td>-7876</td>\n",
       "      <td>0.0</td>\n",
       "      <td>0</td>\n",
       "      <td>0.0</td>\n",
       "    </tr>\n",
       "    <tr>\n",
       "      <th>4</th>\n",
       "      <td>1613710000000</td>\n",
       "      <td>589.25</td>\n",
       "      <td>2021-02-19T09:15:13.083Z</td>\n",
       "      <td>9.2</td>\n",
       "      <td>97697</td>\n",
       "      <td>-20862</td>\n",
       "      <td>0.0</td>\n",
       "      <td>0</td>\n",
       "      <td>0.0</td>\n",
       "    </tr>\n",
       "  </tbody>\n",
       "</table>\n",
       "</div>"
      ],
      "text/plain": [
       "             sid     ltp                updatetime   pvr  volume  \\\n",
       "0  1613710000000  590.75  2021-02-19T09:15:07.457Z  12.6   48771   \n",
       "1  1613710000000  590.70  2021-02-19T09:15:10.445Z   9.4   63450   \n",
       "2  1613710000000  590.70  2021-02-19T09:15:11.400Z  10.2   68959   \n",
       "3  1613710000000  590.00  2021-02-19T09:15:12.271Z   7.2   76835   \n",
       "4  1613710000000  589.25  2021-02-19T09:15:13.083Z   9.2   97697   \n",
       "\n",
       "   volumechange  fl916  net_count  m30exp  \n",
       "0         48771    0.0          0     0.0  \n",
       "1         13409    0.0          0     0.0  \n",
       "2          5509    0.0          0     0.0  \n",
       "3         -7876    0.0          0     0.0  \n",
       "4        -20862    0.0          0     0.0  "
      ]
     },
     "execution_count": 9,
     "metadata": {},
     "output_type": "execute_result"
    }
   ],
   "source": [
    "#taking only valuable columns for first regression\n",
    "\n",
    "data_v2= data_v1.filter(['sid','ltp','updatetime','pvr','volume','volumechange','fl916','net_count','m30exp'], axis=1)\n",
    "data_v2['fl916']=data_v2['fl916'].astype(float)\n",
    "\n",
    "data_v2.head()"
   ]
  },
  {
   "cell_type": "code",
   "execution_count": 10,
   "metadata": {},
   "outputs": [],
   "source": [
    "import datetime"
   ]
  },
  {
   "cell_type": "code",
   "execution_count": 25,
   "metadata": {},
   "outputs": [
    {
     "name": "stdout",
     "output_type": "stream",
     "text": [
      "0    2021-02-19T09:15:07.457Z\n",
      "1    2021-02-19T09:15:10.445Z\n",
      "2    2021-02-19T09:15:11.400Z\n",
      "3    2021-02-19T09:15:12.271Z\n",
      "4    2021-02-19T09:15:13.083Z\n",
      "5    2021-02-19T09:15:14.044Z\n",
      "6    2021-02-19T09:15:14.608Z\n",
      "7    2021-02-19T09:15:15.274Z\n",
      "8    2021-02-19T09:15:15.681Z\n",
      "Name: updatetime, dtype: object\n"
     ]
    }
   ],
   "source": [
    "data_v2['updatetime']=data_v2['updatetime'].astype(str)\n",
    "\n",
    "\n",
    "\n",
    "dt_str= data_v2['updatetime'][0:9]\n",
    "print(dt_str)"
   ]
  },
  {
   "cell_type": "code",
   "execution_count": 21,
   "metadata": {},
   "outputs": [
    {
     "name": "stdout",
     "output_type": "stream",
     "text": [
      "sid               int64\n",
      "ltp             float64\n",
      "updatetime       object\n",
      "pvr             float64\n",
      "volume            int64\n",
      "volumechange      int64\n",
      "fl916           float64\n",
      "net_count         int64\n",
      "m30exp          float64\n",
      "dtype: object\n"
     ]
    }
   ],
   "source": [
    "print(data_v2.dtypes)"
   ]
  },
  {
   "cell_type": "code",
   "execution_count": 26,
   "metadata": {},
   "outputs": [],
   "source": [
    "#updatetime_obj=datetime.datetime.strptime(data_v2.updatetime.iloc[0,0], '%Y-%m-%d %H:%M:%S.%f')"
   ]
  },
  {
   "cell_type": "code",
   "execution_count": 29,
   "metadata": {},
   "outputs": [
    {
     "data": {
      "image/png": "[encoded data removed]",
      "text/plain": [
       "<Figure size 2600x500 with 1 Axes>"
      ]
     },
     "metadata": {
      "needs_background": "light"
     },
     "output_type": "display_data"
    }
   ],
   "source": [
    "# Draw Plot\n",
    "def plot_df(data_v2, x, y, title=\"\", xlabel='Date', ylabel='ltp', dpi=100):\n",
    "    plt.figure(figsize=(26,5), dpi=dpi)\n",
    "    plt.plot(x, y, color='tab:red')\n",
    "    plt.gca().set(title=title, xlabel=xlabel, ylabel=ylabel)\n",
    "    plt.show()\n",
    "    \n",
    "    \n",
    "plot_df(data_v2, x=data_v2.updatetime, y=data_v2.ltp, title='Variation of Ltp wrt time')    "
   ]
  },
  {
   "cell_type": "markdown",
   "metadata": {},
   "source": [
    "<h3> Time series model - Mean Sd and original "
   ]
  },
  {
   "cell_type": "code",
   "execution_count": 32,
   "metadata": {},
   "outputs": [
    {
     "data": {
      "text/html": [
       "<div>\n",
       "<style scoped>\n",
       "    .dataframe tbody tr th:only-of-type {\n",
       "        vertical-align: middle;\n",
       "    }\n",
       "\n",
       "    .dataframe tbody tr th {\n",
       "        vertical-align: top;\n",
       "    }\n",
       "\n",
       "    .dataframe thead th {\n",
       "        text-align: right;\n",
       "    }\n",
       "</style>\n",
       "<table border=\"1\" class=\"dataframe\">\n",
       "  <thead>\n",
       "    <tr style=\"text-align: right;\">\n",
       "      <th></th>\n",
       "      <th>updatetime</th>\n",
       "      <th>ltp</th>\n",
       "    </tr>\n",
       "  </thead>\n",
       "  <tbody>\n",
       "    <tr>\n",
       "      <th>0</th>\n",
       "      <td>2021-02-19T09:15:07.457Z</td>\n",
       "      <td>590.75</td>\n",
       "    </tr>\n",
       "    <tr>\n",
       "      <th>1</th>\n",
       "      <td>2021-02-19T09:15:10.445Z</td>\n",
       "      <td>590.70</td>\n",
       "    </tr>\n",
       "    <tr>\n",
       "      <th>2</th>\n",
       "      <td>2021-02-19T09:15:11.400Z</td>\n",
       "      <td>590.70</td>\n",
       "    </tr>\n",
       "    <tr>\n",
       "      <th>3</th>\n",
       "      <td>2021-02-19T09:15:12.271Z</td>\n",
       "      <td>590.00</td>\n",
       "    </tr>\n",
       "    <tr>\n",
       "      <th>4</th>\n",
       "      <td>2021-02-19T09:15:13.083Z</td>\n",
       "      <td>589.25</td>\n",
       "    </tr>\n",
       "    <tr>\n",
       "      <th>...</th>\n",
       "      <td>...</td>\n",
       "      <td>...</td>\n",
       "    </tr>\n",
       "    <tr>\n",
       "      <th>21144</th>\n",
       "      <td>2021-02-19T15:29:55.033Z</td>\n",
       "      <td>580.55</td>\n",
       "    </tr>\n",
       "    <tr>\n",
       "      <th>21145</th>\n",
       "      <td>2021-02-19T15:29:56.016Z</td>\n",
       "      <td>580.95</td>\n",
       "    </tr>\n",
       "    <tr>\n",
       "      <th>21146</th>\n",
       "      <td>2021-02-19T15:29:57.006Z</td>\n",
       "      <td>580.50</td>\n",
       "    </tr>\n",
       "    <tr>\n",
       "      <th>21147</th>\n",
       "      <td>2021-02-19T15:29:58.174Z</td>\n",
       "      <td>580.95</td>\n",
       "    </tr>\n",
       "    <tr>\n",
       "      <th>21148</th>\n",
       "      <td>2021-02-19T15:29:59.026Z</td>\n",
       "      <td>581.00</td>\n",
       "    </tr>\n",
       "  </tbody>\n",
       "</table>\n",
       "<p>21148 rows × 2 columns</p>\n",
       "</div>"
      ],
      "text/plain": [
       "                     updatetime     ltp\n",
       "0      2021-02-19T09:15:07.457Z  590.75\n",
       "1      2021-02-19T09:15:10.445Z  590.70\n",
       "2      2021-02-19T09:15:11.400Z  590.70\n",
       "3      2021-02-19T09:15:12.271Z  590.00\n",
       "4      2021-02-19T09:15:13.083Z  589.25\n",
       "...                         ...     ...\n",
       "21144  2021-02-19T15:29:55.033Z  580.55\n",
       "21145  2021-02-19T15:29:56.016Z  580.95\n",
       "21146  2021-02-19T15:29:57.006Z  580.50\n",
       "21147  2021-02-19T15:29:58.174Z  580.95\n",
       "21148  2021-02-19T15:29:59.026Z  581.00\n",
       "\n",
       "[21148 rows x 2 columns]"
      ]
     },
     "execution_count": 32,
     "metadata": {},
     "output_type": "execute_result"
    }
   ],
   "source": [
    "ts_data=data_v2.filter(['updatetime','ltp'])\n",
    "ts_data"
   ]
  },
  {
   "cell_type": "code",
   "execution_count": 45,
   "metadata": {},
   "outputs": [],
   "source": [
    "#plt.plot(ts_data)\n",
    "#ts_log = np.log(ts_data)\n",
    "ts_np=ts_data.to_numpy()\n",
    "#plt.plot(ts_np)"
   ]
  },
  {
   "cell_type": "code",
   "execution_count": 71,
   "metadata": {},
   "outputs": [],
   "source": [
    "from statsmodels.tsa.stattools import adfuller\n",
    "def stationary_ts(timeseries):\n",
    "    \n",
    "    #plt.plot(timeseries)\n",
    "    #ts_log = np.log(timeseries)\n",
    "    #plt.plot(ts_log)\n",
    "    #Determing rolling statistics\n",
    "    #rolmean = pd.rolling_mean(timeseries, window=12)\n",
    "    rolmean = timeseries.rolling( window=12).mean()\n",
    "    rolstd = timeseries.rolling(window=12).std()\n",
    "\n",
    "    #Plot rolling statistics:\n",
    "    plt.figure(figsize=(26,5))\n",
    "    orig = plt.plot(timeseries['updatetime'],timeseries['ltp'], color='red',label='Original')\n",
    "    mean = plt.plot(rolmean, color='green', label='Rolling Mean')\n",
    "    std = plt.plot(rolstd, color='blue', label = 'Rolling Std')\n",
    "    plt.legend(loc='best')\n",
    "    plt.title('Rolling Mean & Standard Deviation')\n",
    "    #plt.figure(figsize=(18,5))\n",
    "    plt.show(block=False)\n",
    "    \n",
    "   \n"
   ]
  },
  {
   "cell_type": "code",
   "execution_count": 70,
   "metadata": {},
   "outputs": [
    {
     "data": {
      "image/png": "[encoded data removed]",
      "text/plain": [
       "<Figure size 1872x360 with 1 Axes>"
      ]
     },
     "metadata": {
      "needs_background": "light"
     },
     "output_type": "display_data"
    }
   ],
   "source": [
    "stationary_ts(ts_data)"
   ]
  },
  {
   "cell_type": "code",
   "execution_count": null,
   "metadata": {},
   "outputs": [],
   "source": []
  }
 ],
 "metadata": {
  "kernelspec": {
   "display_name": "Python 3",
   "language": "python",
   "name": "python3"
  },
  "language_info": {
   "codemirror_mode": {
    "name": "ipython",
    "version": 3
   },
   "file_extension": ".py",
   "mimetype": "text/x-python",
   "name": "python",
   "nbconvert_exporter": "python",
   "pygments_lexer": "ipython3",
   "version": "3.8.3"
  }
 },
 "nbformat": 4,
 "nbformat_minor": 4
}
